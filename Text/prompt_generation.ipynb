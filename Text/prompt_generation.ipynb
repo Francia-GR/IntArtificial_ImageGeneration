{
 "cells": [
  {
   "cell_type": "code",
   "execution_count": 26,
   "metadata": {},
   "outputs": [],
   "source": [
    "import os\n",
    "import openai\n",
    "import api_key"
   ]
  },
  {
   "cell_type": "code",
   "execution_count": 27,
   "metadata": {},
   "outputs": [],
   "source": [
    "openai.api_key = api_key.OPENAI_API_KEY"
   ]
  },
  {
   "cell_type": "code",
   "execution_count": 28,
   "metadata": {},
   "outputs": [],
   "source": [
    "responses = []\n",
    "n = 0"
   ]
  },
  {
   "cell_type": "code",
   "execution_count": 34,
   "metadata": {},
   "outputs": [],
   "source": [
    "messages = [\n",
    "    {\"role\": \"system\", \"content\": \"You are a marketing advisor for Coca Cola. Your job is to create the text in spanich for a new promotion in a mexican convenience store.\"},\n",
    "    {\"role\": \"user\", \"content\": \"Use the following products: Coca Cola 600ml, Leche Santa Clara Light 1L, Garrafon Ciel 5L. Limit to 30 words.\"},\n",
    "    ]"
   ]
  },
  {
   "cell_type": "code",
   "execution_count": 35,
   "metadata": {},
   "outputs": [],
   "source": [
    "response = openai.ChatCompletion.create(\n",
    "  model=\"gpt-4\",\n",
    "  messages=messages,\n",
    "  temperature = 0.7,\n",
    "  max_tokens = 50\n",
    ")\n",
    "\n",
    "responses.append(response)\n",
    "n += 1"
   ]
  },
  {
   "cell_type": "code",
   "execution_count": 36,
   "metadata": {},
   "outputs": [
    {
     "name": "stdout",
     "output_type": "stream",
     "text": [
      "\"¡Promoción especial! Compra una Coca Cola de 600ml, Leche Santa Clara Light de 1L y un Garrafón Ciel de 5L, ¡y ahorra en tu tienda de conveniencia favorita!\"\n"
     ]
    }
   ],
   "source": [
    "print(responses[n-1][\"choices\"][0][\"message\"][\"content\"])"
   ]
  }
 ],
 "metadata": {
  "kernelspec": {
   "display_name": "CocaCola",
   "language": "python",
   "name": "python3"
  },
  "language_info": {
   "codemirror_mode": {
    "name": "ipython",
    "version": 3
   },
   "file_extension": ".py",
   "mimetype": "text/x-python",
   "name": "python",
   "nbconvert_exporter": "python",
   "pygments_lexer": "ipython3",
   "version": "3.11.5"
  }
 },
 "nbformat": 4,
 "nbformat_minor": 2
}
