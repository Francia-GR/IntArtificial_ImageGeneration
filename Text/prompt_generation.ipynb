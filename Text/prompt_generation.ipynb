{
 "cells": [
  {
   "cell_type": "code",
   "execution_count": 1,
   "metadata": {},
   "outputs": [],
   "source": [
    "import os\n",
    "import openai\n",
    "import pandas as pd \n",
    "import api_key"
   ]
  },
  {
   "cell_type": "code",
   "execution_count": 2,
   "metadata": {},
   "outputs": [],
   "source": [
    "openai.api_key = api_key.OPENAI_API_KEY"
   ]
  },
  {
   "cell_type": "code",
   "execution_count": 3,
   "metadata": {},
   "outputs": [],
   "source": [
    "responses = []\n",
    "n = 0"
   ]
  },
  {
   "cell_type": "code",
   "execution_count": 6,
   "metadata": {},
   "outputs": [
    {
     "data": {
      "text/html": [
       "<div>\n",
       "<style scoped>\n",
       "    .dataframe tbody tr th:only-of-type {\n",
       "        vertical-align: middle;\n",
       "    }\n",
       "\n",
       "    .dataframe tbody tr th {\n",
       "        vertical-align: top;\n",
       "    }\n",
       "\n",
       "    .dataframe thead th {\n",
       "        text-align: right;\n",
       "    }\n",
       "</style>\n",
       "<table border=\"1\" class=\"dataframe\">\n",
       "  <thead>\n",
       "    <tr style=\"text-align: right;\">\n",
       "      <th></th>\n",
       "      <th>ID_Cliente</th>\n",
       "      <th>Nombre</th>\n",
       "      <th>Región</th>\n",
       "      <th>Ciudad</th>\n",
       "      <th>Producto</th>\n",
       "      <th>Cantidad</th>\n",
       "      <th>Fecha_Compra</th>\n",
       "      <th>Precio_Compra</th>\n",
       "      <th>CEDI</th>\n",
       "      <th>Tipo_Tienda</th>\n",
       "      <th>Frecuencia</th>\n",
       "      <th>Entorno</th>\n",
       "    </tr>\n",
       "  </thead>\n",
       "  <tbody>\n",
       "    <tr>\n",
       "      <th>0</th>\n",
       "      <td>1</td>\n",
       "      <td>Doña Toñita</td>\n",
       "      <td>Noreste</td>\n",
       "      <td>Monterrey</td>\n",
       "      <td>Coca-Cola 355ml</td>\n",
       "      <td>12</td>\n",
       "      <td>01-10-2023</td>\n",
       "      <td>$10</td>\n",
       "      <td>Universidad</td>\n",
       "      <td>Abarrotes</td>\n",
       "      <td>Semanal</td>\n",
       "      <td>Escuela</td>\n",
       "    </tr>\n",
       "    <tr>\n",
       "      <th>1</th>\n",
       "      <td>1</td>\n",
       "      <td>Doña Toñita</td>\n",
       "      <td>Noreste</td>\n",
       "      <td>Monterrey</td>\n",
       "      <td>Sprite 355ml</td>\n",
       "      <td>8</td>\n",
       "      <td>02-10-2023</td>\n",
       "      <td>$10</td>\n",
       "      <td>Universidad</td>\n",
       "      <td>Abarrotes</td>\n",
       "      <td>Semanal</td>\n",
       "      <td>Escuela</td>\n",
       "    </tr>\n",
       "    <tr>\n",
       "      <th>2</th>\n",
       "      <td>1</td>\n",
       "      <td>Doña Toñita</td>\n",
       "      <td>Noreste</td>\n",
       "      <td>Monterrey</td>\n",
       "      <td>Fanta 355ml</td>\n",
       "      <td>10</td>\n",
       "      <td>15-10-2023</td>\n",
       "      <td>$10</td>\n",
       "      <td>Universidad</td>\n",
       "      <td>Abarrotes</td>\n",
       "      <td>Semanal</td>\n",
       "      <td>Escuela</td>\n",
       "    </tr>\n",
       "    <tr>\n",
       "      <th>3</th>\n",
       "      <td>2</td>\n",
       "      <td>Super Smart</td>\n",
       "      <td>Noreste</td>\n",
       "      <td>Monterrey</td>\n",
       "      <td>Coca-Cola 1L</td>\n",
       "      <td>5</td>\n",
       "      <td>01-10-2023</td>\n",
       "      <td>$20</td>\n",
       "      <td>Insurgentes</td>\n",
       "      <td>Mini Market</td>\n",
       "      <td>Mensual</td>\n",
       "      <td>Oficina</td>\n",
       "    </tr>\n",
       "    <tr>\n",
       "      <th>4</th>\n",
       "      <td>2</td>\n",
       "      <td>Super Smart</td>\n",
       "      <td>Noreste</td>\n",
       "      <td>Monterrey</td>\n",
       "      <td>Coca-Cola Zero 1L</td>\n",
       "      <td>6</td>\n",
       "      <td>20-10-2023</td>\n",
       "      <td>$20</td>\n",
       "      <td>Insurgentes</td>\n",
       "      <td>Mini Market</td>\n",
       "      <td>Mensual</td>\n",
       "      <td>Oficina</td>\n",
       "    </tr>\n",
       "  </tbody>\n",
       "</table>\n",
       "</div>"
      ],
      "text/plain": [
       "   ID_Cliente       Nombre   Región     Ciudad           Producto  \\\n",
       "0           1  Doña Toñita  Noreste  Monterrey    Coca-Cola 355ml   \n",
       "1           1  Doña Toñita  Noreste  Monterrey       Sprite 355ml   \n",
       "2           1  Doña Toñita  Noreste  Monterrey        Fanta 355ml   \n",
       "3           2  Super Smart  Noreste  Monterrey       Coca-Cola 1L   \n",
       "4           2  Super Smart  Noreste  Monterrey  Coca-Cola Zero 1L   \n",
       "\n",
       "           Cantidad        Fecha_Compra Precio_Compra         CEDI  \\\n",
       "0                12          01-10-2023           $10  Universidad   \n",
       "1                 8          02-10-2023           $10  Universidad   \n",
       "2                10          15-10-2023           $10  Universidad   \n",
       "3                 5          01-10-2023           $20  Insurgentes   \n",
       "4                 6          20-10-2023           $20  Insurgentes   \n",
       "\n",
       "           Tipo_Tienda   Frecuencia      Entorno  \n",
       "0            Abarrotes      Semanal      Escuela  \n",
       "1            Abarrotes      Semanal      Escuela  \n",
       "2            Abarrotes      Semanal      Escuela  \n",
       "3          Mini Market      Mensual      Oficina  \n",
       "4          Mini Market      Mensual      Oficina  "
      ]
     },
     "execution_count": 6,
     "metadata": {},
     "output_type": "execute_result"
    }
   ],
   "source": [
    "df = pd.read_csv(\"promotion.csv\", encoding=\"ISO-8859-1\")\n",
    "df.head()"
   ]
  },
  {
   "cell_type": "code",
   "execution_count": 13,
   "metadata": {},
   "outputs": [
    {
     "data": {
      "text/plain": [
       "{'Entorno': {0: 'Escuela', 1: 'Gimnasio', 2: 'Oficina', 3: 'Hospital'},\n",
       " 'Regla': {0: 'Ofrecer más Jugos del valle o Lecha Santa clara sabores',\n",
       "  1: 'Ofecer más agua Ciel o Powerade',\n",
       "  2: 'Ofrecer Refrescos y Agua',\n",
       "  3: 'Ofrecer Refrescos y Agua'}}"
      ]
     },
     "execution_count": 13,
     "metadata": {},
     "output_type": "execute_result"
    }
   ],
   "source": [
    "env_rules_df = pd.read_csv(\"env_rules.csv\", encoding=\"latin\")\n",
    "env_rules_dict = env_rules_df.to_dict()\n",
    "env_rules_dict"
   ]
  },
  {
   "cell_type": "code",
   "execution_count": 16,
   "metadata": {},
   "outputs": [],
   "source": [
    "Entorno = 'Escuela'\n",
    "Products = ['Coca Cola 600ml', 'Leche Santa Clara Light 1L', 'Garrafon Ciel 5L']"
   ]
  },
  {
   "cell_type": "code",
   "execution_count": 19,
   "metadata": {},
   "outputs": [
    {
     "name": "stdout",
     "output_type": "stream",
     "text": [
      "[{'role': 'system', 'content': 'You are a marketing advisor for Coca Cola. Your job is to create the text in spanish for a new add poster in a Escuela.'}, {'role': 'user', 'content': 'Use the following products: Coca Cola 600ml, Leche Santa Clara Light 1L, Garrafon Ciel 5L. Limit to 30 words.'}]\n"
     ]
    }
   ],
   "source": [
    "content1 = Entorno\n",
    "content2 = \", \".join(Products)\n",
    "\n",
    "messages = [\n",
    "    {\"role\": \"system\", \"content\": \"You are a marketing advisor for Coca Cola. Your job is to create the text in spanish for a new add poster in a \" + content1 + \".\"},\n",
    "    {\"role\": \"user\", \"content\": \"Use the following products: \" + content2 + \". Limit to 30 words.\"},\n",
    "]\n",
    "\n",
    "print(messages)"
   ]
  },
  {
   "cell_type": "code",
   "execution_count": 5,
   "metadata": {},
   "outputs": [],
   "source": [
    "response = openai.ChatCompletion.create(\n",
    "    model=\"gpt-4\",\n",
    "    messages=messages,\n",
    "    temperature = 0.5,\n",
    "    max_tokens = 50\n",
    "    )\n",
    "\n",
    "responses.append(response)\n",
    "n += 1"
   ]
  },
  {
   "cell_type": "code",
   "execution_count": 6,
   "metadata": {},
   "outputs": [
    {
     "name": "stdout",
     "output_type": "stream",
     "text": [
      "\"¡Imperdible oferta en tu tienda local! Compra un Garrafón Ciel de 5L, obtén un 50% de descuento en tu Coca Cola 600ml y Leche Santa Clara Light \n"
     ]
    }
   ],
   "source": [
    "print(responses[n-1][\"choices\"][0][\"message\"][\"content\"])"
   ]
  }
 ],
 "metadata": {
  "kernelspec": {
   "display_name": "CocaCola",
   "language": "python",
   "name": "python3"
  },
  "language_info": {
   "codemirror_mode": {
    "name": "ipython",
    "version": 3
   },
   "file_extension": ".py",
   "mimetype": "text/x-python",
   "name": "python",
   "nbconvert_exporter": "python",
   "pygments_lexer": "ipython3",
   "version": "3.11.5"
  }
 },
 "nbformat": 4,
 "nbformat_minor": 2
}
